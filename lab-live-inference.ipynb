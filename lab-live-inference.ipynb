{
 "cells": [
  {
   "cell_type": "code",
   "execution_count": 2,
   "metadata": {
    "scrolled": true
   },
   "outputs": [
    {
     "name": "stderr",
     "output_type": "stream",
     "text": [
      "/home/asr/tensorflow-cpu/lib/python3.6/importlib/_bootstrap.py:219: RuntimeWarning: numpy.dtype size changed, may indicate binary incompatibility. Expected 96, got 88\n",
      "  return f(*args, **kwds)\n",
      "/home/asr/tensorflow-cpu/lib/python3.6/importlib/_bootstrap.py:219: RuntimeWarning: numpy.dtype size changed, may indicate binary incompatibility. Expected 96, got 88\n",
      "  return f(*args, **kwds)\n"
     ]
    }
   ],
   "source": [
    "import tensorflow as tf\n",
    "from tensorflow import data\n",
    "import multiprocessing\n",
    "import numpy as np\n",
    "import os\n"
   ]
  },
  {
   "cell_type": "code",
   "execution_count": 3,
   "metadata": {},
   "outputs": [],
   "source": [
    "def predictor(model_name):\n",
    "    model_dir = os.path.join(os.getcwd(),'trained_models/{}'.format(MODEL_NAME))\n",
    "    export_dir = model_dir +\"/export/predict/\"\n",
    "    saved_model_dir= export_dir + \"/\" + os.listdir(path=export_dir)[-1]  \n",
    "    return tf.contrib.predictor.from_saved_model(export_dir = saved_model_dir,signature_def_key=\"prediction\")"
   ]
  },
  {
   "cell_type": "code",
   "execution_count": 30,
   "metadata": {
    "scrolled": false
   },
   "outputs": [
    {
     "name": "stdout",
     "output_type": "stream",
     "text": [
      "INFO:tensorflow:Restoring parameters from b'/home/asr/Data/classif_task/trained_models/cnn-test/export/predict//1536071851/variables/variables'\n",
      "INFO:tensorflow:Restoring parameters from b'/home/asr/Data/classif_task/trained_models/dyglove-calendar_voc5000+5000_mlen20_embs300_lay96-64-16_lr001_mystop/export/predict//1534253762/variables/variables'\n",
      "INFO:tensorflow:Restoring parameters from b'/home/asr/Data/classif_task/trained_models/dyglove-calendar_voc2500+2500_mlen20_embs300_lay96-64-16_lr001_mystop/export/predict//1534252221/variables/variables'\n",
      "INFO:tensorflow:Restoring parameters from b'/home/asr/Data/classif_task/trained_models/dyglove-calendar_voc13k+2k_mlen20_embs300_lay96-64-16_lr001_mystop_nodigits_humanized/export/predict//1535705462/variables/variables'\n",
      "INFO:tensorflow:Restoring parameters from b'/home/asr/Data/classif_task/trained_models/cnn-dyglove-calendar_voc7k+3k_mlen20_embs300_conv1d-fc64-32_lr001_mystop_nodigits_humanized/export/predict//1535989780/variables/variables'\n",
      "INFO:tensorflow:Restoring parameters from b'/home/asr/Data/classif_task/trained_models/dyglove-calendar_voc7k+3k_mlen20_embs300_lay96-64-16_lr001_mystop_nodigits_humanized/export/predict//1535387877/variables/variables'\n",
      "INFO:tensorflow:Restoring parameters from b'/home/asr/Data/classif_task/trained_models/cnn-lstm-dyglove-calendar_voc7k+3k_mlen20_embs300_lay96-64-16_fc32-16_lr001_mystop_nodigits_humanized/export/predict//1536144093/variables/variables'\n"
     ]
    }
   ],
   "source": [
    "#MDL_1 = 'stat-calendar_voc500+4500_mlen20_embs10_lay96-64-16_lr001_mystop'\n",
    "#MDL_1 = 'cnn-test'\n",
    "#MDL_2 = 'dyglove-calendar_voc5000+5000_mlen20_embs300_lay96-64-16_lr001_mystop'\n",
    "#MDL_3 = 'dyglove-calendar_voc2500+2500_mlen20_embs300_lay96-64-16_lr001_mystop'\n",
    "#MDL_4 = 'dyglove-calendar_voc13k+2k_mlen20_embs300_lay96-64-16_lr001_mystop_nodigits_humanized'\n",
    "#MDL_5 = 'dyglove-calendar_voc5k+2k_mlen20_embs300_lay96-64-16_lr001_mystop_nodigits_humanized'\n",
    "#MDL_5 = 'cnn-dyglove-calendar_voc7k+3k_mlen20_embs300_conv1d-fc64-32_lr001_mystop_nodigits_humanized'\n",
    "#MDL_6 = 'dyglove-calendar_voc7k+3k_mlen20_embs300_lay96-64-16_lr001_mystop_nodigits_humanized'\n",
    "#MDL_7 = 'dyglove-calendar_voc19k+1k_mlen20_embs300_lay96-64-16_lr001_mystop_nodigits_humanized'\n",
    "#MDL_7 = 'cnn-dyglove-calendar_voc7k+3k_mlen20_embs300_conv1d-fc128-64_lr001_mystop_nodigits_humanized'\n",
    "#MDL_7 = 'cnn-lstm-dyglove-calendar_voc7k+3k_mlen20_embs300_lay96-64-16_fc32-16_lr001_mystop_nodigits_humanized'\n",
    "# The following is the best\n",
    "#MDL_7 = 'cnn-dyglove-calendar_voc13k+2k_mlen20_embs300_conv1d-fc64-32_lr001_mystop_nodigits_humanized'\n",
    "#MDL_4 = 'dyglove-calendar_voc15k+5k_mlen20_embs300_lay96-64-16_lr001_mystop'\n",
    "#MDL_5 = 'dyglove-calendar_voc15k+5k_mlen20_embs300_lay96-64-16_lr001_mystop_nodigits'\n",
    "\n",
    "output_dict = {\"mdl1\": predictor(MDL_1), \"mdl2\": predictor(MDL_2), \"mdl3\": predictor(MDL_3), \"mdl4\": predictor(MDL_4), \"mdl5\": predictor(MDL_5), \"mdl6\": predictor(MDL_6), \"mdl7\": predictor(MDL_7)}\n",
    "#output_dict = {\"mdl1\": predictor(MDL_1), \"mdl4\": predictor(MDL_4), \"mdl5\": predictor(MDL_5)}\n"
   ]
  },
  {
   "cell_type": "code",
   "execution_count": 45,
   "metadata": {},
   "outputs": [
    {
     "name": "stdout",
     "output_type": "stream",
     "text": [
      "INFO:tensorflow:Restoring parameters from b'/home/asr/Data/classif_task/trained_models/lstm-dyglove_voc5k+2k_mlen20_lay96-64-16_lr001_mystop_nodigits_jsgf+subtitles+paisa/export/predict//1536154770/variables/variables'\n",
      "INFO:tensorflow:Restoring parameters from b'/home/asr/Data/classif_task/trained_models/simple-cnn-dyglove_voc5k+2k_mlen20_conv1d-fc64-32_lr001_mystop_nodigits_jsgf+subtitles+paisa/export/predict//1536157508/variables/variables'\n"
     ]
    }
   ],
   "source": [
    "MDL_1 = 'lstm-dyglove_voc5k+2k_mlen20_lay96-64-16_lr001_mystop_nodigits_jsgf+subtitles+paisa'\n",
    "MDL_2 = 'simple-cnn-dyglove_voc5k+2k_mlen20_conv1d-fc64-32_lr001_mystop_nodigits_jsgf+subtitles+paisa'\n",
    "output_dict = {\"mdl1\": predictor(MDL_1), \"mdl2\": predictor(MDL_2)}"
   ]
  },
  {
   "cell_type": "code",
   "execution_count": 38,
   "metadata": {},
   "outputs": [],
   "source": [
    "output = lambda mdl, sentence: output_dict[mdl]({'sentence':sentence})"
   ]
  },
  {
   "cell_type": "code",
   "execution_count": 46,
   "metadata": {},
   "outputs": [
    {
     "name": "stdout",
     "output_type": "stream",
     "text": [
      "[[0.999 0.001]\n",
      " [0.999 0.001]\n",
      " [0.    1.   ]]\n",
      "-------------\n",
      "[[1.    0.   ]\n",
      " [1.    0.   ]\n",
      " [0.007 0.993]]\n",
      "-------------\n"
     ]
    }
   ],
   "source": [
    "sent = ['elimina tutti i vestiti', 'elimina tutti i problemi', 'elimina tutti gli appuntamenti']\n",
    "\n",
    "print(np.around(output(\"mdl1\", sent)['probabilities'][0:],decimals=3))\n",
    "print(\"-------------\")\n",
    "print(np.around(output(\"mdl2\", sent)['probabilities'][0:],decimals=3))\n",
    "print(\"-------------\")\n",
    "# print(np.around(output(\"mdl3\", sent)['probabilities'][0:],decimals=3))\n",
    "# print(\"-------------\")\n",
    "# print(np.around(output(\"mdl4\", sent)['probabilities'][0:],decimals=3))\n",
    "# print(\"-------------\")\n",
    "# print(np.around(output(\"mdl5\", sent)['probabilities'][0:],decimals=3))\n",
    "# print(\"-------------\")\n",
    "# print(np.around(output(\"mdl6\", sent)['probabilities'][0:],decimals=3))\n",
    "# print(\"-------------\")\n",
    "# print(np.around(output(\"mdl7\", sent)['probabilities'][0:],decimals=3))\n",
    "\n",
    "# [1  0]\n",
    "# [1  0]\n",
    "# [0  1]"
   ]
  },
  {
   "cell_type": "code",
   "execution_count": 48,
   "metadata": {},
   "outputs": [
    {
     "name": "stdout",
     "output_type": "stream",
     "text": [
      "[[1. 0.]\n",
      " [0. 1.]]\n",
      "-------------\n",
      "[[1.   0.  ]\n",
      " [0.01 0.99]]\n",
      "-------------\n"
     ]
    }
   ],
   "source": [
    "sent = ['ho un libro di storia sul comodino', 'segna domani gita in montagna sul calendario']\n",
    "\n",
    "print(np.around(output(\"mdl1\", sent)['probabilities'][0:],decimals=3))\n",
    "print(\"-------------\")\n",
    "print(np.around(output(\"mdl2\", sent)['probabilities'][0:],decimals=3))\n",
    "print(\"-------------\")\n",
    "# print(np.around(output(\"mdl3\", sent)['probabilities'][0:],decimals=3))\n",
    "# print(\"-------------\")\n",
    "# print(np.around(output(\"mdl4\", sent)['probabilities'][0:],decimals=3))\n",
    "# print(\"-------------\")\n",
    "# print(np.around(output(\"mdl5\", sent)['probabilities'][0:],decimals=3))\n",
    "# print(\"-------------\")\n",
    "# print(np.around(output(\"mdl6\", sent)['probabilities'][0:],decimals=3))\n",
    "# print(\"-------------\")\n",
    "# print(np.around(output(\"mdl7\", sent)['probabilities'][0:],decimals=3))\n",
    "\n",
    "# [1  0]\n",
    "# [0  1]"
   ]
  },
  {
   "cell_type": "code",
   "execution_count": 49,
   "metadata": {},
   "outputs": [
    {
     "name": "stdout",
     "output_type": "stream",
     "text": [
      "[[0.003 0.997]\n",
      " [0.    1.   ]\n",
      " [0.809 0.191]]\n",
      "-------------\n",
      "[[0.001 0.999]\n",
      " [0.006 0.994]\n",
      " [1.    0.   ]]\n",
      "-------------\n"
     ]
    }
   ],
   "source": [
    "sent = ['ho visto sul calendario che domani è lunedì', 'puoi controllare l agenda', 'sarebbe carino creare una raccolta di programmi standalone da condividere']\n",
    "\n",
    "print(np.around(output(\"mdl1\", sent)['probabilities'][0:],decimals=3))\n",
    "print(\"-------------\")\n",
    "print(np.around(output(\"mdl2\", sent)['probabilities'][0:],decimals=3))\n",
    "print(\"-------------\")\n",
    "# print(np.around(output(\"mdl3\", sent)['probabilities'][0:],decimals=3))\n",
    "# print(\"-------------\")\n",
    "# print(np.around(output(\"mdl4\", sent)['probabilities'][0:],decimals=3))\n",
    "# print(\"-------------\")\n",
    "# print(np.around(output(\"mdl5\", sent)['probabilities'][0:],decimals=3))\n",
    "# print(\"-------------\")\n",
    "# print(np.around(output(\"mdl6\", sent)['probabilities'][0:],decimals=3))\n",
    "# print(\"-------------\")\n",
    "# print(np.around(output(\"mdl7\", sent)['probabilities'][0:],decimals=3))\n",
    "\n",
    "# [0  1]\n",
    "# [0  1]\n",
    "# [0  1]"
   ]
  },
  {
   "cell_type": "code",
   "execution_count": 50,
   "metadata": {},
   "outputs": [
    {
     "name": "stdout",
     "output_type": "stream",
     "text": [
      "[[0.    1.   ]\n",
      " [0.    1.   ]\n",
      " [0.075 0.925]]\n",
      "-------------\n",
      "[[0.006 0.994]\n",
      " [0.001 0.999]\n",
      " [0.006 0.994]]\n",
      "-------------\n"
     ]
    }
   ],
   "source": [
    "#sent = ['sfoglia il calendario', 'cosa facciamo questa settimana', 'ha un calendario appeso al muro']\n",
    "sent = ['mi dici quali sono i miei programmi del mese per favore', 'dimmi i programmi del mese prossimo per favore', 'i miei programmi del mese']\n",
    "\n",
    "print(np.around(output(\"mdl1\", sent)['probabilities'][0:],decimals=3))\n",
    "print(\"-------------\")\n",
    "print(np.around(output(\"mdl2\", sent)['probabilities'][0:],decimals=3))\n",
    "print(\"-------------\")\n",
    "# print(np.around(output(\"mdl3\", sent)['probabilities'][0:],decimals=3))\n",
    "# print(\"-------------\")\n",
    "# print(np.around(output(\"mdl4\", sent)['probabilities'][0:],decimals=3))\n",
    "# print(\"-------------\")\n",
    "# print(np.around(output(\"mdl5\", sent)['probabilities'][0:],decimals=3))\n",
    "# print(\"-------------\")\n",
    "# print(np.around(output(\"mdl6\", sent)['probabilities'][0:],decimals=3))\n",
    "# print(\"-------------\")\n",
    "# print(np.around(output(\"mdl7\", sent)['probabilities'][0:],decimals=3))\n",
    "\n",
    "# [0  1]\n",
    "# [0  1]\n",
    "# [0  1]"
   ]
  },
  {
   "cell_type": "code",
   "execution_count": 51,
   "metadata": {},
   "outputs": [
    {
     "name": "stdout",
     "output_type": "stream",
     "text": [
      "[[0. 1.]]\n",
      "-------------\n",
      "[[0. 1.]]\n",
      "-------------\n"
     ]
    }
   ],
   "source": [
    "#sent = ['sulle impostazioni del calendario li ho spuntati ma anche aggiungendo la data']\n",
    "sent = ['per favore aggiungi lunedì mattina spettacolo a teatro con marco sul calendario']\n",
    "\n",
    "print(np.around(output(\"mdl1\", sent)['probabilities'][0:],decimals=3))\n",
    "print(\"-------------\")\n",
    "print(np.around(output(\"mdl2\", sent)['probabilities'][0:],decimals=3))\n",
    "print(\"-------------\")\n",
    "# print(np.around(output(\"mdl3\", sent)['probabilities'][0:],decimals=3))\n",
    "# print(\"-------------\")\n",
    "# print(np.around(output(\"mdl4\", sent)['probabilities'][0:],decimals=3))\n",
    "# print(\"-------------\")\n",
    "# print(np.around(output(\"mdl5\", sent)['probabilities'][0:],decimals=3))\n",
    "# print(\"-------------\")\n",
    "# print(np.around(output(\"mdl6\", sent)['probabilities'][0:],decimals=3))\n",
    "# print(\"-------------\")\n",
    "# print(np.around(output(\"mdl7\", sent)['probabilities'][0:],decimals=3))"
   ]
  }
 ],
 "metadata": {
  "kernelspec": {
   "display_name": "Python 3",
   "language": "python",
   "name": "python3"
  },
  "language_info": {
   "codemirror_mode": {
    "name": "ipython",
    "version": 3
   },
   "file_extension": ".py",
   "mimetype": "text/x-python",
   "name": "python",
   "nbconvert_exporter": "python",
   "pygments_lexer": "ipython3",
   "version": "3.6.5"
  }
 },
 "nbformat": 4,
 "nbformat_minor": 2
}
